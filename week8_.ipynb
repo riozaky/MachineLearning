{
  "nbformat": 4,
  "nbformat_minor": 0,
  "metadata": {
    "colab": {
      "name": "week8 .ipynb",
      "provenance": [],
      "authorship_tag": "ABX9TyO2Jj4PLAAasbPxazrbwyiS",
      "include_colab_link": true
    },
    "kernelspec": {
      "name": "python3",
      "display_name": "Python 3"
    },
    "language_info": {
      "name": "python"
    }
  },
  "cells": [
    {
      "cell_type": "markdown",
      "metadata": {
        "id": "view-in-github",
        "colab_type": "text"
      },
      "source": [
        "<a href=\"https://colab.research.google.com/github/riozaky/MachineLearning/blob/main/week8_.ipynb\" target=\"_parent\"><img src=\"https://colab.research.google.com/assets/colab-badge.svg\" alt=\"Open In Colab\"/></a>"
      ]
    },
    {
      "cell_type": "markdown",
      "source": [
        "# **Support Vector Machines (SVM)**\n",
        "Support vector machines (SVMs) are a set of supervised learning methods used for classification, regression and outliers detection.\n",
        "\n",
        "Example of SVM Classification: **Maximum Margin Separating Hyperplane Programs**\n"
      ],
      "metadata": {
        "id": "3hBBJw0rnkNP"
      }
    },
    {
      "cell_type": "code",
      "execution_count": 2,
      "metadata": {
        "colab": {
          "base_uri": "https://localhost:8080/",
          "height": 265
        },
        "id": "DNenkIhnnAuz",
        "outputId": "37f47a36-725e-46a3-c28d-1d91646b9b1f"
      },
      "outputs": [
        {
          "output_type": "display_data",
          "data": {
            "text/plain": [
              "<Figure size 432x288 with 1 Axes>"
            ],
            "image/png": "[encoded data removed]"
          },
          "metadata": {
            "needs_background": "light"
          }
        }
      ],
      "source": [
        "# libraries\n",
        "import numpy as np\n",
        "import matplotlib.pyplot as plt\n",
        "from sklearn import svm\n",
        "from sklearn.datasets import make_blobs\n",
        "\n",
        "\n",
        "# create 40 separable points\n",
        "X, y = make_blobs(n_samples=40, centers=2, random_state=6)\n",
        "\n",
        "# fit the model\n",
        "clf = svm.SVC(kernel=\"linear\", C=1000)\n",
        "clf.fit(X, y)\n",
        "\n",
        "plt.scatter(X[:, 0], X[:, 1], c=y, s=30, cmap=plt.cm.Paired)\n",
        "\n",
        "# plot the decision function\n",
        "ax = plt.gca()\n",
        "xlim = ax.get_xlim()\n",
        "ylim = ax.get_ylim()\n",
        "\n",
        "# create grid to evaluate model\n",
        "xx = np.linspace(xlim[0], xlim[1], 30)\n",
        "yy = np.linspace(ylim[0], ylim[1], 30)\n",
        "YY, XX = np.meshgrid(yy, xx)\n",
        "xy = np.vstack([XX.ravel(), YY.ravel()]).T\n",
        "Z = clf.decision_function(xy).reshape(XX.shape)\n",
        "\n",
        "# plot decision boundary and margins\n",
        "ax.contour(\n",
        "    XX, YY, Z, colors=\"k\", levels=[-1, 0, 1], alpha=0.5, linestyles=[\"--\", \"-\", \"--\"]\n",
        ")\n",
        "# plot support vectors\n",
        "ax.scatter(\n",
        "    clf.support_vectors_[:, 0],\n",
        "    clf.support_vectors_[:, 1],\n",
        "    s=100,\n",
        "    linewidth=1,\n",
        "    facecolors=\"none\",\n",
        "    edgecolors=\"k\",\n",
        ")\n",
        "plt.show()"
      ]
    },
    {
      "cell_type": "markdown",
      "source": [
        "# **Credit card dataset: SVM Classification**"
      ],
      "metadata": {
        "id": "i6DPBjxTxjRG"
      }
    },
    {
      "cell_type": "code",
      "source": [
        "# Importing librairies\n",
        "\n",
        "import pandas as pd \n",
        "import numpy as np\n",
        "\n",
        "# Scikit-learn library: For SVM\n",
        "from sklearn import preprocessing\n",
        "from sklearn.metrics import confusion_matrix\n",
        "from sklearn import svm\n",
        "\n",
        "import itertools\n",
        "\n",
        "# Matplotlib library to plot the charts\n",
        "import matplotlib.pyplot as plt\n",
        "import matplotlib.mlab as mlab\n",
        "\n",
        "# Library for the statistic data vizualisation\n",
        "import seaborn\n",
        "\n",
        "%matplotlib inline"
      ],
      "metadata": {
        "id": "L3VVpXkUunmm"
      },
      "execution_count": 3,
      "outputs": []
    },
    {
      "cell_type": "code",
      "source": [
        "# Reading the file .csv\n",
        "data = pd.read_csv('creditcard.csv') \n",
        "# Converting data to Panda DataFrame\n",
        "df = pd.DataFrame(data) \n",
        "# Description of statistic features (Sum, Average, Variance, minimum, 1st quartile, 2nd quartile, 3rd Quartile and Maximum)\n",
        "df.describe()"
      ],
      "metadata": {
        "colab": {
          "base_uri": "https://localhost:8080/",
          "height": 394
        },
        "id": "RcYiYEIuur-t",
        "outputId": "d712619f-eab1-467b-facb-7416044ccac6"
      },
      "execution_count": 7,
      "outputs": [
        {
          "output_type": "execute_result",
          "data": {
            "text/plain": [
              "               Time            V1            V2            V3            V4  \\\n",
              "count  23858.000000  23858.000000  23858.000000  23858.000000  23858.000000   \n",
              "mean   18213.370609     -0.239141      0.198892      0.727022      0.248619   \n",
              "std    11377.032190      1.894219      1.533073      1.724887      1.440938   \n",
              "min        0.000000    -30.552380    -40.978852    -31.103685     -5.172595   \n",
              "25%     6624.750000     -0.959528     -0.376134      0.287941     -0.658457   \n",
              "50%    20564.000000     -0.288644      0.192491      0.874426      0.216440   \n",
              "75%    29010.250000      1.164867      0.843146      1.505467      1.122367   \n",
              "max    32954.000000      1.960497     16.713389      4.101716     11.927512   \n",
              "\n",
              "                 V5            V6            V7            V8            V9  \\\n",
              "count  23858.000000  23858.000000  23858.000000  23858.000000  23858.000000   \n",
              "mean      -0.188428      0.082789     -0.132080      0.022901      0.499391   \n",
              "std        1.439894      1.328159      1.334691      1.378382      1.274199   \n",
              "min      -42.147898    -23.496714    -26.548144    -41.484823     -7.175097   \n",
              "25%       -0.767634     -0.663707     -0.595277     -0.167688     -0.330826   \n",
              "50%       -0.218348     -0.179887     -0.066356      0.027183      0.422417   \n",
              "75%        0.325281      0.474103      0.450460      0.286111      1.261519   \n",
              "max       34.099309     22.529298     36.677268     20.007208     10.392889   \n",
              "\n",
              "       ...           V21           V22           V23           V24  \\\n",
              "count  ...  23858.000000  23857.000000  23857.000000  23857.000000   \n",
              "mean   ...     -0.041192     -0.137287     -0.038435      0.013626   \n",
              "std    ...      0.837207      0.644720      0.526298      0.588573   \n",
              "min    ...    -20.262054     -8.593642    -26.751119     -2.836627   \n",
              "25%    ...     -0.253906     -0.561223     -0.173814     -0.325615   \n",
              "50%    ...     -0.104848     -0.110305     -0.048570      0.064300   \n",
              "75%    ...      0.066305      0.273088      0.074189      0.400535   \n",
              "max    ...     22.614889      5.805795     13.876221      3.695503   \n",
              "\n",
              "                V25           V26           V27           V28        Amount  \\\n",
              "count  23857.000000  23857.000000  23857.000000  23857.000000  23857.000000   \n",
              "mean       0.127921      0.027504      0.013233      0.004932     73.976583   \n",
              "std        0.435896      0.520213      0.401059      0.267790    212.761278   \n",
              "min       -7.495741     -1.338556     -8.567638     -9.617915      0.000000   \n",
              "25%       -0.134460     -0.337167     -0.066242     -0.009446      5.990000   \n",
              "50%        0.164769     -0.046463      0.006465      0.020002     18.040000   \n",
              "75%        0.407827      0.314884      0.094960      0.077392     66.000000   \n",
              "max        5.525093      3.517346     11.135740      4.860769   7879.420000   \n",
              "\n",
              "              Class  \n",
              "count  23857.000000  \n",
              "mean       0.003689  \n",
              "std        0.060623  \n",
              "min        0.000000  \n",
              "25%        0.000000  \n",
              "50%        0.000000  \n",
              "75%        0.000000  \n",
              "max        1.000000  \n",
              "\n",
              "[8 rows x 31 columns]"
            ],
            "text/html": [
              "\n",
              "  <div id=\"df-f7903d5a-c5bc-4e2a-a277-de044fccac3e\">\n",
              "    <div class=\"colab-df-container\">\n",
              "      <div>\n",
              "<style scoped>\n",
              "    .dataframe tbody tr th:only-of-type {\n",
              "        vertical-align: middle;\n",
              "    }\n",
              "\n",
              "    .dataframe tbody tr th {\n",
              "        vertical-align: top;\n",
              "    }\n",
              "\n",
              "    .dataframe thead th {\n",
              "        text-align: right;\n",
              "    }\n",
              "</style>\n",
              "<table border=\"1\" class=\"dataframe\">\n",
              "  <thead>\n",
              "    <tr style=\"text-align: right;\">\n",
              "      <th></th>\n",
              "      <th>Time</th>\n",
              "      <th>V1</th>\n",
              "      <th>V2</th>\n",
              "      <th>V3</th>\n",
              "      <th>V4</th>\n",
              "      <th>V5</th>\n",
              "      <th>V6</th>\n",
              "      <th>V7</th>\n",
              "      <th>V8</th>\n",
              "      <th>V9</th>\n",
              "      <th>...</th>\n",
              "      <th>V21</th>\n",
              "      <th>V22</th>\n",
              "      <th>V23</th>\n",
              "      <th>V24</th>\n",
              "      <th>V25</th>\n",
              "      <th>V26</th>\n",
              "      <th>V27</th>\n",
              "      <th>V28</th>\n",
              "      <th>Amount</th>\n",
              "      <th>Class</th>\n",
              "    </tr>\n",
              "  </thead>\n",
              "  <tbody>\n",
              "    <tr>\n",
              "      <th>count</th>\n",
              "      <td>23858.000000</td>\n",
              "      <td>23858.000000</td>\n",
              "      <td>23858.000000</td>\n",
              "      <td>23858.000000</td>\n",
              "      <td>23858.000000</td>\n",
              "      <td>23858.000000</td>\n",
              "      <td>23858.000000</td>\n",
              "      <td>23858.000000</td>\n",
              "      <td>23858.000000</td>\n",
              "      <td>23858.000000</td>\n",
              "      <td>...</td>\n",
              "      <td>23858.000000</td>\n",
              "      <td>23857.000000</td>\n",
              "      <td>23857.000000</td>\n",
              "      <td>23857.000000</td>\n",
              "      <td>23857.000000</td>\n",
              "      <td>23857.000000</td>\n",
              "      <td>23857.000000</td>\n",
              "      <td>23857.000000</td>\n",
              "      <td>23857.000000</td>\n",
              "      <td>23857.000000</td>\n",
              "    </tr>\n",
              "    <tr>\n",
              "      <th>mean</th>\n",
              "      <td>18213.370609</td>\n",
              "      <td>-0.239141</td>\n",
              "      <td>0.198892</td>\n",
              "      <td>0.727022</td>\n",
              "      <td>0.248619</td>\n",
              "      <td>-0.188428</td>\n",
              "      <td>0.082789</td>\n",
              "      <td>-0.132080</td>\n",
              "      <td>0.022901</td>\n",
              "      <td>0.499391</td>\n",
              "      <td>...</td>\n",
              "      <td>-0.041192</td>\n",
              "      <td>-0.137287</td>\n",
              "      <td>-0.038435</td>\n",
              "      <td>0.013626</td>\n",
              "      <td>0.127921</td>\n",
              "      <td>0.027504</td>\n",
              "      <td>0.013233</td>\n",
              "      <td>0.004932</td>\n",
              "      <td>73.976583</td>\n",
              "      <td>0.003689</td>\n",
              "    </tr>\n",
              "    <tr>\n",
              "      <th>std</th>\n",
              "      <td>11377.032190</td>\n",
              "      <td>1.894219</td>\n",
              "      <td>1.533073</td>\n",
              "      <td>1.724887</td>\n",
              "      <td>1.440938</td>\n",
              "      <td>1.439894</td>\n",
              "      <td>1.328159</td>\n",
              "      <td>1.334691</td>\n",
              "      <td>1.378382</td>\n",
              "      <td>1.274199</td>\n",
              "      <td>...</td>\n",
              "      <td>0.837207</td>\n",
              "      <td>0.644720</td>\n",
              "      <td>0.526298</td>\n",
              "      <td>0.588573</td>\n",
              "      <td>0.435896</td>\n",
              "      <td>0.520213</td>\n",
              "      <td>0.401059</td>\n",
              "      <td>0.267790</td>\n",
              "      <td>212.761278</td>\n",
              "      <td>0.060623</td>\n",
              "    </tr>\n",
              "    <tr>\n",
              "      <th>min</th>\n",
              "      <td>0.000000</td>\n",
              "      <td>-30.552380</td>\n",
              "      <td>-40.978852</td>\n",
              "      <td>-31.103685</td>\n",
              "      <td>-5.172595</td>\n",
              "      <td>-42.147898</td>\n",
              "      <td>-23.496714</td>\n",
              "      <td>-26.548144</td>\n",
              "      <td>-41.484823</td>\n",
              "      <td>-7.175097</td>\n",
              "      <td>...</td>\n",
              "      <td>-20.262054</td>\n",
              "      <td>-8.593642</td>\n",
              "      <td>-26.751119</td>\n",
              "      <td>-2.836627</td>\n",
              "      <td>-7.495741</td>\n",
              "      <td>-1.338556</td>\n",
              "      <td>-8.567638</td>\n",
              "      <td>-9.617915</td>\n",
              "      <td>0.000000</td>\n",
              "      <td>0.000000</td>\n",
              "    </tr>\n",
              "    <tr>\n",
              "      <th>25%</th>\n",
              "      <td>6624.750000</td>\n",
              "      <td>-0.959528</td>\n",
              "      <td>-0.376134</td>\n",
              "      <td>0.287941</td>\n",
              "      <td>-0.658457</td>\n",
              "      <td>-0.767634</td>\n",
              "      <td>-0.663707</td>\n",
              "      <td>-0.595277</td>\n",
              "      <td>-0.167688</td>\n",
              "      <td>-0.330826</td>\n",
              "      <td>...</td>\n",
              "      <td>-0.253906</td>\n",
              "      <td>-0.561223</td>\n",
              "      <td>-0.173814</td>\n",
              "      <td>-0.325615</td>\n",
              "      <td>-0.134460</td>\n",
              "      <td>-0.337167</td>\n",
              "      <td>-0.066242</td>\n",
              "      <td>-0.009446</td>\n",
              "      <td>5.990000</td>\n",
              "      <td>0.000000</td>\n",
              "    </tr>\n",
              "    <tr>\n",
              "      <th>50%</th>\n",
              "      <td>20564.000000</td>\n",
              "      <td>-0.288644</td>\n",
              "      <td>0.192491</td>\n",
              "      <td>0.874426</td>\n",
              "      <td>0.216440</td>\n",
              "      <td>-0.218348</td>\n",
              "      <td>-0.179887</td>\n",
              "      <td>-0.066356</td>\n",
              "      <td>0.027183</td>\n",
              "      <td>0.422417</td>\n",
              "      <td>...</td>\n",
              "      <td>-0.104848</td>\n",
              "      <td>-0.110305</td>\n",
              "      <td>-0.048570</td>\n",
              "      <td>0.064300</td>\n",
              "      <td>0.164769</td>\n",
              "      <td>-0.046463</td>\n",
              "      <td>0.006465</td>\n",
              "      <td>0.020002</td>\n",
              "      <td>18.040000</td>\n",
              "      <td>0.000000</td>\n",
              "    </tr>\n",
              "    <tr>\n",
              "      <th>75%</th>\n",
              "      <td>29010.250000</td>\n",
              "      <td>1.164867</td>\n",
              "      <td>0.843146</td>\n",
              "      <td>1.505467</td>\n",
              "      <td>1.122367</td>\n",
              "      <td>0.325281</td>\n",
              "      <td>0.474103</td>\n",
              "      <td>0.450460</td>\n",
              "      <td>0.286111</td>\n",
              "      <td>1.261519</td>\n",
              "      <td>...</td>\n",
              "      <td>0.066305</td>\n",
              "      <td>0.273088</td>\n",
              "      <td>0.074189</td>\n",
              "      <td>0.400535</td>\n",
              "      <td>0.407827</td>\n",
              "      <td>0.314884</td>\n",
              "      <td>0.094960</td>\n",
              "      <td>0.077392</td>\n",
              "      <td>66.000000</td>\n",
              "      <td>0.000000</td>\n",
              "    </tr>\n",
              "    <tr>\n",
              "      <th>max</th>\n",
              "      <td>32954.000000</td>\n",
              "      <td>1.960497</td>\n",
              "      <td>16.713389</td>\n",
              "      <td>4.101716</td>\n",
              "      <td>11.927512</td>\n",
              "      <td>34.099309</td>\n",
              "      <td>22.529298</td>\n",
              "      <td>36.677268</td>\n",
              "      <td>20.007208</td>\n",
              "      <td>10.392889</td>\n",
              "      <td>...</td>\n",
              "      <td>22.614889</td>\n",
              "      <td>5.805795</td>\n",
              "      <td>13.876221</td>\n",
              "      <td>3.695503</td>\n",
              "      <td>5.525093</td>\n",
              "      <td>3.517346</td>\n",
              "      <td>11.135740</td>\n",
              "      <td>4.860769</td>\n",
              "      <td>7879.420000</td>\n",
              "      <td>1.000000</td>\n",
              "    </tr>\n",
              "  </tbody>\n",
              "</table>\n",
              "<p>8 rows × 31 columns</p>\n",
              "</div>\n",
              "      <button class=\"colab-df-convert\" onclick=\"convertToInteractive('df-f7903d5a-c5bc-4e2a-a277-de044fccac3e')\"\n",
              "              title=\"Convert this dataframe to an interactive table.\"\n",
              "              style=\"display:none;\">\n",
              "        \n",
              "  <svg xmlns=\"http://www.w3.org/2000/svg\" height=\"24px\"viewBox=\"0 0 24 24\"\n",
              "       width=\"24px\">\n",
              "    <path d=\"M0 0h24v24H0V0z\" fill=\"none\"/>\n",
              "    <path d=\"M18.56 5.44l.94 2.06.94-2.06 2.06-.94-2.06-.94-.94-2.06-.94 2.06-2.06.94zm-11 1L8.5 8.5l.94-2.06 2.06-.94-2.06-.94L8.5 2.5l-.94 2.06-2.06.94zm10 10l.94 2.06.94-2.06 2.06-.94-2.06-.94-.94-2.06-.94 2.06-2.06.94z\"/><path d=\"M17.41 7.96l-1.37-1.37c-.4-.4-.92-.59-1.43-.59-.52 0-1.04.2-1.43.59L10.3 9.45l-7.72 7.72c-.78.78-.78 2.05 0 2.83L4 21.41c.39.39.9.59 1.41.59.51 0 1.02-.2 1.41-.59l7.78-7.78 2.81-2.81c.8-.78.8-2.07 0-2.86zM5.41 20L4 18.59l7.72-7.72 1.47 1.35L5.41 20z\"/>\n",
              "  </svg>\n",
              "      </button>\n",
              "      \n",
              "  <style>\n",
              "    .colab-df-container {\n",
              "      display:flex;\n",
              "      flex-wrap:wrap;\n",
              "      gap: 12px;\n",
              "    }\n",
              "\n",
              "    .colab-df-convert {\n",
              "      background-color: #E8F0FE;\n",
              "      border: none;\n",
              "      border-radius: 50%;\n",
              "      cursor: pointer;\n",
              "      display: none;\n",
              "      fill: #1967D2;\n",
              "      height: 32px;\n",
              "      padding: 0 0 0 0;\n",
              "      width: 32px;\n",
              "    }\n",
              "\n",
              "    .colab-df-convert:hover {\n",
              "      background-color: #E2EBFA;\n",
              "      box-shadow: 0px 1px 2px rgba(60, 64, 67, 0.3), 0px 1px 3px 1px rgba(60, 64, 67, 0.15);\n",
              "      fill: #174EA6;\n",
              "    }\n",
              "\n",
              "    [theme=dark] .colab-df-convert {\n",
              "      background-color: #3B4455;\n",
              "      fill: #D2E3FC;\n",
              "    }\n",
              "\n",
              "    [theme=dark] .colab-df-convert:hover {\n",
              "      background-color: #434B5C;\n",
              "      box-shadow: 0px 1px 3px 1px rgba(0, 0, 0, 0.15);\n",
              "      filter: drop-shadow(0px 1px 2px rgba(0, 0, 0, 0.3));\n",
              "      fill: #FFFFFF;\n",
              "    }\n",
              "  </style>\n",
              "\n",
              "      <script>\n",
              "        const buttonEl =\n",
              "          document.querySelector('#df-f7903d5a-c5bc-4e2a-a277-de044fccac3e button.colab-df-convert');\n",
              "        buttonEl.style.display =\n",
              "          google.colab.kernel.accessAllowed ? 'block' : 'none';\n",
              "\n",
              "        async function convertToInteractive(key) {\n",
              "          const element = document.querySelector('#df-f7903d5a-c5bc-4e2a-a277-de044fccac3e');\n",
              "          const dataTable =\n",
              "            await google.colab.kernel.invokeFunction('convertToInteractive',\n",
              "                                                     [key], {});\n",
              "          if (!dataTable) return;\n",
              "\n",
              "          const docLinkHtml = 'Like what you see? Visit the ' +\n",
              "            '<a target=\"_blank\" href=https://colab.research.google.com/notebooks/data_table.ipynb>data table notebook</a>'\n",
              "            + ' to learn more about interactive tables.';\n",
              "          element.innerHTML = '';\n",
              "          dataTable['output_type'] = 'display_data';\n",
              "          await google.colab.output.renderOutput(dataTable, element);\n",
              "          const docLink = document.createElement('div');\n",
              "          docLink.innerHTML = docLinkHtml;\n",
              "          element.appendChild(docLink);\n",
              "        }\n",
              "      </script>\n",
              "    </div>\n",
              "  </div>\n",
              "  "
            ]
          },
          "metadata": {},
          "execution_count": 7
        }
      ]
    },
    {
      "cell_type": "code",
      "source": [
        "# Data Visualization\n",
        "df_fraud = df[df['Class'] == 1] # Recovery of fraud data\n",
        "plt.figure(figsize=(15,10))\n",
        "plt.scatter(df_fraud['Time'], df_fraud['Amount']) # Display fraud amounts according to their time\n",
        "plt.title('Scratter plot amount fraud')\n",
        "plt.xlabel('Time')\n",
        "plt.ylabel('Amount')\n",
        "plt.xlim([0,175000])\n",
        "plt.ylim([0,2500])\n",
        "plt.show()"
      ],
      "metadata": {
        "colab": {
          "base_uri": "https://localhost:8080/",
          "height": 594
        },
        "id": "7wbkswk4xZMX",
        "outputId": "db44292c-d6ee-4a24-c0fd-d35e1f65c37b"
      },
      "execution_count": 8,
      "outputs": [
        {
          "output_type": "display_data",
          "data": {
            "text/plain": [
              "<Figure size 1080x720 with 1 Axes>"
            ],
            "image/png": "[encoded data removed]"
          },
          "metadata": {
            "needs_background": "light"
          }
        }
      ]
    },
    {
      "cell_type": "code",
      "source": [
        "nb_big_fraud = df_fraud[df_fraud['Amount'] > 1000].shape[0] # Recovery of frauds over 1000\n",
        "print('There are only '+ str(nb_big_fraud) + ' frauds where the amount was bigger than 1000 over ' + str(df_fraud.shape[0]) + ' frauds')"
      ],
      "metadata": {
        "colab": {
          "base_uri": "https://localhost:8080/"
        },
        "id": "zj-YCDZQxzks",
        "outputId": "d5c8c205-68fa-4e6e-c613-7fde0acc3083"
      },
      "execution_count": 11,
      "outputs": [
        {
          "output_type": "stream",
          "name": "stdout",
          "text": [
            "There are only 2 frauds where the amount was bigger than 1000 over 88 frauds\n"
          ]
        }
      ]
    },
    {
      "cell_type": "code",
      "source": [
        "# Unbalence data\n",
        "number_fraud = len(data[data.Class == 1])\n",
        "number_no_fraud = len(data[data.Class == 0])\n",
        "print('There are only '+ str(number_fraud) + ' frauds in the original dataset, even though there are ' + str(number_no_fraud) +' no frauds in the dataset')"
      ],
      "metadata": {
        "colab": {
          "base_uri": "https://localhost:8080/"
        },
        "id": "oYs_iOjeyFmu",
        "outputId": "fac02aaa-d37b-4f76-8ae4-57823ea15e72"
      },
      "execution_count": 14,
      "outputs": [
        {
          "output_type": "stream",
          "name": "stdout",
          "text": [
            "There are only 88 frauds in the original dataset, even though there are 23769 no frauds in the dataset\n"
          ]
        }
      ]
    },
    {
      "cell_type": "code",
      "source": [
        "# Achieve the best accuracy possible it would most likely label every transaction as a non-fraud\n",
        "print(\"The accuracy of the classifier then would be : \"+ str((284315-492)/284315)+ \" which is the number of good classification over the number of tuple to classify\")\n"
      ],
      "metadata": {
        "colab": {
          "base_uri": "https://localhost:8080/"
        },
        "id": "qlff216DyolP",
        "outputId": "28568306-a8c1-4c5b-f8b7-9ff8d53e38fd"
      },
      "execution_count": 15,
      "outputs": [
        {
          "output_type": "stream",
          "name": "stdout",
          "text": [
            "The accuracy of the classifier then would be : 0.998269524998681 which is the number of good classification over the number of tuple to classify\n"
          ]
        }
      ]
    },
    {
      "cell_type": "code",
      "source": [
        "# Correlation of the features\n",
        "# Calculation of the correlation coefficients in pairs, with the default method:\n",
        "# Pearson, Standard Correlation Coefficient\n",
        "df_corr = df.corr() \n",
        "\n",
        "plt.figure(figsize=(15,10))\n",
        "seaborn.heatmap(df_corr, cmap=\"YlGnBu\") # Displaying the Heatmap\n",
        "seaborn.set(font_scale=2,style='white')\n",
        "\n",
        "plt.title('Heatmap correlation')\n",
        "plt.show()"
      ],
      "metadata": {
        "colab": {
          "base_uri": "https://localhost:8080/",
          "height": 646
        },
        "id": "JoQ1SPsZysNu",
        "outputId": "37430173-29c1-4393-ce19-5da02b7b3a24"
      },
      "execution_count": 16,
      "outputs": [
        {
          "output_type": "display_data",
          "data": {
            "text/plain": [
              "<Figure size 1080x720 with 2 Axes>"
            ],
            "image/png": "[encoded data removed]"
          },
          "metadata": {
            "needs_background": "light"
          }
        }
      ]
    },
    {
      "cell_type": "code",
      "source": [
        "# Most of the features are not correlated with each other\n",
        "# PCA was previously performed on the data\n",
        "\n",
        "# Retrieving the correlation coefficients per feature in relation to the feature class\n",
        "rank = df_corr['Class'] \n",
        "df_rank = pd.DataFrame(rank) \n",
        "\n",
        "# Ranking the absolute values of the coefficientsin descending order\n",
        "df_rank = np.abs(df_rank).sort_values(by='Class',ascending=False) \n",
        "\n",
        "# Removing Missing Data (not a number)\n",
        "df_rank.dropna(inplace=True)"
      ],
      "metadata": {
        "id": "vs5mWUGNyzJv"
      },
      "execution_count": 17,
      "outputs": []
    },
    {
      "cell_type": "code",
      "source": [
        "# We seperate ours data in two groups : a train dataset and a test dataset\n",
        "\n",
        "# Build our train dataset\n",
        "# Cut in two the original dataset\n",
        "df_train_all = df[0:150000] \n",
        "\n",
        "# Seperate the data which are the frauds and the no frauds\n",
        "df_train_1 = df_train_all[df_train_all['Class'] == 1] \n",
        "df_train_0 = df_train_all[df_train_all['Class'] == 0]\n",
        "print('In this dataset, we have ' + str(len(df_train_1)) +\" frauds so we need to take a similar number of non-fraud\")\n",
        "\n",
        "df_sample=df_train_0.sample(300)\n",
        "\n",
        "# Gather the frauds with the no frauds.\n",
        "df_train = df_train_1.append(df_sample)  \n",
        "# Mix dataset\n",
        "df_train = df_train.sample(frac=1) "
      ],
      "metadata": {
        "colab": {
          "base_uri": "https://localhost:8080/"
        },
        "id": "PIoQv9FOy6J2",
        "outputId": "596bd593-8b21-4edf-ac6c-99171f18ce44"
      },
      "execution_count": 18,
      "outputs": [
        {
          "output_type": "stream",
          "name": "stdout",
          "text": [
            "In this dataset, we have 88 frauds so we need to take a similar number of non-fraud\n"
          ]
        }
      ]
    },
    {
      "cell_type": "code",
      "source": [
        "# Drop the features Time (useless), and the Class (label)\n",
        "X_train = df_train.drop(['Time', 'Class'],axis=1)\n",
        "\n",
        "# Create our label\n",
        "y_train = df_train['Class'] \n",
        "X_train = np.asarray(X_train)\n",
        "y_train = np.asarray(y_train)"
      ],
      "metadata": {
        "id": "ABUgZ8aVy_Kf"
      },
      "execution_count": 19,
      "outputs": []
    },
    {
      "cell_type": "code",
      "source": [
        "# With all the test dataset to see if the model learn correctly \n",
        "df_test_all = df[150000:]\n",
        "\n",
        "X_test_all = df_test_all.drop(['Time', 'Class'],axis=1)\n",
        "y_test_all = df_test_all['Class']\n",
        "X_test_all = np.asarray(X_test_all)\n",
        "y_test_all = np.asarray(y_test_all)"
      ],
      "metadata": {
        "id": "2AxK6cUYzCjG"
      },
      "execution_count": 20,
      "outputs": []
    },
    {
      "cell_type": "code",
      "source": [
        "# Define training and testing set after applying a dimension reduction \n",
        "# Take the first ten ranked features\n",
        "X_train_rank = df_train[df_rank.index[1:11]] \n",
        "X_train_rank = np.asarray(X_train_rank)\n",
        "\n",
        "X_test_all_rank = df_test_all[df_rank.index[1:11]]\n",
        "X_test_all_rank = np.asarray(X_test_all_rank)\n",
        "y_test_all = np.asarray(y_test_all)"
      ],
      "metadata": {
        "id": "imh9jJt7zE4v"
      },
      "execution_count": 21,
      "outputs": []
    },
    {
      "cell_type": "code",
      "source": [
        "# Confusion Matrix\n",
        "# Binary label, Class = 1 (fraud) and Class = 0 (no fraud)\n",
        "class_names=np.array(['0','1']) "
      ],
      "metadata": {
        "id": "hsJgtbAyzItl"
      },
      "execution_count": 22,
      "outputs": []
    },
    {
      "cell_type": "code",
      "source": [
        "# Function to plot the confusion Matrix\n",
        "def plot_confusion_matrix(cm, classes,\n",
        "                          title='Confusion matrix',\n",
        "                          cmap=plt.cm.Blues):\n",
        "    \n",
        "    plt.imshow(cm, interpolation='nearest', cmap=cmap)\n",
        "    plt.title(title)\n",
        "    plt.colorbar()\n",
        "    tick_marks = np.arange(len(classes))\n",
        "    plt.xticks(tick_marks, classes, rotation=45)\n",
        "    plt.yticks(tick_marks, classes)\n",
        "\n",
        "    fmt = 'd' \n",
        "    thresh = cm.max() / 2.\n",
        "    for i, j in itertools.product(range(cm.shape[0]), range(cm.shape[1])):\n",
        "        plt.text(j, i, format(cm[i, j], fmt),\n",
        "                 horizontalalignment=\"center\",\n",
        "                 color=\"white\" if cm[i, j] > thresh else \"black\")\n",
        "\n",
        "    plt.tight_layout()\n",
        "    plt.ylabel('True label')\n",
        "    plt.xlabel('Predicted label')"
      ],
      "metadata": {
        "id": "S5ZZlhMjzMA9"
      },
      "execution_count": 23,
      "outputs": []
    },
    {
      "cell_type": "code",
      "source": [
        "# Model Selection\n",
        "# Set a SVM classifier, the default SVM Classifier (Kernel = Radial Basis Function)\n",
        "classifier = svm.SVC(kernel='linear') \n",
        "\n",
        "# Then we train our model, with our balanced data train.\n",
        "classifier.fit(X_train, y_train) "
      ],
      "metadata": {
        "colab": {
          "base_uri": "https://localhost:8080/"
        },
        "id": "wJ48kgMEzPgP",
        "outputId": "b086b5ff-3ff6-4c85-e7d6-6ccd6088f78a"
      },
      "execution_count": 24,
      "outputs": [
        {
          "output_type": "execute_result",
          "data": {
            "text/plain": [
              "SVC(kernel='linear')"
            ]
          },
          "metadata": {},
          "execution_count": 24
        }
      ]
    }
  ]
}